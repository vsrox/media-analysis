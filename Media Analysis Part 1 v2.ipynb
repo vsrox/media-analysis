{
 "cells": [
  {
   "cell_type": "markdown",
   "metadata": {},
   "source": [
    "Okay, so here it is - the first Jupyter notebook. \n",
    "As a programmer in my past life and a strategy consultant for a while now, I feel strongly that is the future of consulting and most of knowledge economy. \n",
    "More on that later!\n",
    "For now, what we have at hand is a hobby project.\n",
    "Along with my friend, Arpan, I am trying to explore an institutional way to understand leanings of media on crucial matters.\n",
    "We start with a topical one - is hydroxychloraquin (ain't that a mouthful) effective for Covid19? "
   ]
  },
  {
   "cell_type": "markdown",
   "metadata": {},
   "source": [
    "So, starting off, I want to test out how I can observe media quickly. \n",
    "As someone has said, good programmers develop algorithms, great programmers search github.\n",
    "Shamelessly borrowing from the good folks at newpaper library, here is a quick render of summarizing a web article using this beautiful library. \n",
    "Hat tip folks!"
   ]
  },
  {
   "cell_type": "code",
   "execution_count": 13,
   "metadata": {},
   "outputs": [
    {
     "name": "stdout",
     "output_type": "stream",
     "text": [
      "['As Many As Districts Have At Least One Case']\n",
      "None\n",
      "Hydroxychloroquine, the antimalarial drug which the U.S. President Donald Trump called a “game changer” against coronavirus (COVID-19), is not effective against the disease, according to a study.\n",
      "The yet to be peer-reviewed study, published in the preprint server medRxiv, made a retrospective analysis of patients hospitalised with COVID-19 in all the Veterans Health Administration medical centers across the U.S.\n",
      "According to the researchers, hydroxychloroquine, alone or in combination with azithromycin, is being widely used in COVID-19 therapy based on anecdotal evidence.\n",
      "Also Read Coronavirus | Pharma units in limbo amid confusion over hydroxychloroquine exportsBased on the findings, the scientists said there is no evidence that use of hydroxychloroquine reduced the risk of mechanical ventilation in patients hospitalised with COVID-19.\n",
      "“The findings from this retrospective study suggest caution in using hydroxychloroquine in hospitalised COVID-19 patients, particularly when not combined with azithromycin,” the researchers concluded.\n"
     ]
    }
   ],
   "source": [
    "import nltk\n",
    "from newspaper import Article\n",
    "article = Article('https://www.thehindu.com/sci-tech/health/coronavirus-hydroxychloroquine-not-effective-against-covid-19-says-study/article31406034.ece')\n",
    "article.download()\n",
    "article.parse()\n",
    "article.nlp()\n",
    "print(article.authors)\n",
    "print(article.publish_date)\n",
    "article.keywords\n",
    "print(article.summary)\n"
   ]
  },
  {
   "cell_type": "code",
   "execution_count": 70,
   "metadata": {},
   "outputs": [],
   "source": [
    "import requests\n",
    "from bs4 import BeautifulSoup\n",
    "import re\n",
    "import urllib.parse\n",
    "from urllib.parse import urlparse\n",
    "g_clean = [ ] \n",
    "url ='https://www.google.com/search?source=hp&ei=WijKXvTlCJHf9QPXm6D4DQ&q=is+hydroxychloroquine+working+for+covid+19&oq=is+hydroxychloroquine+working+for+&gs_lcp=CgZwc3ktYWIQAxgAMgIIADoFCAAQgwE6BwgAEEYQ_wE6DggAEOoCELQCEJoBEOUCUOYJWPQ2YIJAaAVwAHgAgAGOAYgBwxCSAQQwLjE4mAEAoAEBqgEHZ3dzLXdperABBg&sclient=psy-ab'\n",
    "    \n",
    "html = requests.get(url)\n",
    "if html.status_code==200:\n",
    "    soup = BeautifulSoup(html.text, 'lxml')\n",
    "    a = soup.find_all('a') \n",
    "    for i in a:\n",
    "        k = i.get('href')\n",
    "        #print(k)"
   ]
  },
  {
   "cell_type": "code",
   "execution_count": null,
   "metadata": {},
   "outputs": [],
   "source": [
    "That worked well! \n",
    "I looked at the summary code under the hood and it basically scores the sentences with the highest appreance of keywords (words appearing the most and not the usual stopwords) as high and then builds a summary taking the highest ranked sentences. Quite elegant but something to be played around with the NLP inclined."
   ]
  },
  {
   "cell_type": "markdown",
   "metadata": {},
   "source": [
    "Phew, that seemed to work but the render is not pretty at all. It is something like a lot of blob of this:\n",
    "/?sa=X&ved=0ahUKEwi0zJ78gszpAhVMwzgGHYGZCC0QOwgC\n",
    "/?output=search&ie=UTF-8&sa=X&ved=0ahUKEwi0zJ78gszpAhVMwzgGHYGZCC0QPAgE\n",
    "/search?q=is+hydroxychloroquine+working+for+covid+19&ie=UTF-8&gbv=1&sei=cCjKXrTUAsyG4-EPgbOi6AI\n",
    "# Lots of gibberish with some sembalance of links in there\n",
    "//policies.google.com/privacy?fg=1\n",
    "//policies.google.com/terms?fg=1    \n",
    "\n",
    "So I revise the code to make it more meaningful"
   ]
  },
  {
   "cell_type": "code",
   "execution_count": 49,
   "metadata": {},
   "outputs": [
    {
     "name": "stdout",
     "output_type": "stream",
     "text": [
      "https://www.cdc.gov/coronavirus/2019-ncov/hcp/therapeutic-options.html\n",
      "https://www.goodrx.com/blog/coronavirus-medicine-chloroquine-hydroxychloroquine-as-covid19-treatment/\n",
      "https://www.ncbi.nlm.nih.gov/pmc/articles/PMC7102549/\n",
      "https://www.ncbi.nlm.nih.gov/pmc/articles/PMC7102549/%23sec0001title\n",
      "https://www.ncbi.nlm.nih.gov/pmc/articles/PMC7102549/%23sec0002title\n",
      "https://www.ncbi.nlm.nih.gov/pmc/articles/PMC7102549/%23sec0018title\n",
      "https://www.ncbi.nlm.nih.gov/pmc/articles/PMC7102549/%23sec0013title\n",
      "https://www.thelancet.com/journals/laninf/article/PIIS1473-3099(20)30313-3/fulltext\n",
      "https://www.statnews.com/pharmalot/2020/04/28/covid19-coronavirus-hydroxycholoroquine-lupus-trump/\n",
      "https://www.bbc.com/news/51980731\n",
      "https://theprint.in/health/hcq-breakthrough-icmr-finds-its-effective-in-preventing-coronavirus-expands-its-use/427583/\n",
      "https://www.genengnews.com/news/novartis-plans-phase-iii-trial-of-hydroxychloroquine-for-covid-19/\n",
      "https://www.sciencenews.org/article/coronavirus-covid-19-politics-hydroxychloroquine-treatment-research\n",
      "https://m.economictimes.com/industry/healthcare/biotech/pharmaceuticals/experts-criticise-indias-endorsement-for-use-of-hydroxychloroquine-on-covid-19-patients/articleshow/75243316.cms\n"
     ]
    }
   ],
   "source": [
    "import requests\n",
    "from bs4 import BeautifulSoup\n",
    "import re\n",
    "import urllib.parse\n",
    "from urllib.parse import urlparse\n",
    "g_clean = [ ] \n",
    "url ='https://www.google.com/search?source=hp&ei=WijKXvTlCJHf9QPXm6D4DQ&q=is+hydroxychloroquine+working+for+covid+19&oq=is+hydroxychloroquine+working+for+&gs_lcp=CgZwc3ktYWIQAxgAMgIIADoFCAAQgwE6BwgAEEYQ_wE6DggAEOoCELQCEJoBEOUCUOYJWPQ2YIJAaAVwAHgAgAGOAYgBwxCSAQQwLjE4mAEAoAEBqgEHZ3dzLXdperABBg&sclient=psy-ab'\n",
    "    \n",
    "html = requests.get(url)\n",
    "if html.status_code==200:\n",
    "    soup = BeautifulSoup(html.text, 'lxml')\n",
    "    a = soup.find_all('a') \n",
    "    for i in a:\n",
    "        k = i.get('href')\n",
    "        try:\n",
    "            m = re.search(\"(?P<url>https?://[^\\s]+)\", k)\n",
    "            n = m.group(0)\n",
    "            rul = n.split('&')[0]\n",
    "            domain = urlparse(rul)\n",
    "            if(re.search('google.com', domain.netloc)):\n",
    "                continue\n",
    "            else:\n",
    "                g_clean.append(rul)\n",
    "        except:\n",
    "            continue\n",
    "            \n",
    "            \n",
    "for x in range(len(g_clean)):\n",
    "    print(g_clean[x])\n"
   ]
  },
  {
   "cell_type": "markdown",
   "metadata": {},
   "source": [
    "That is good progress - makes you wonder how it has become to code! \n",
    "Although also makes you wonder how people can easily copy paste code, and pass off as the developers of that. \n",
    "Phew, and I had tried to laboriously read Knuth in 2008/09"
   ]
  },
  {
   "cell_type": "markdown",
   "metadata": {},
   "source": [
    "So now, for the big one, I am going to take the top 10 results and summarize them. \n",
    "However, I do see that there are duplicates here - so first a clean pass to get non-duplicates is in order.The elegant way was to convert the list into a dictionary with keys as list elements (ignore if this didn't make sense, i just found it clever probably becuase I am getting to this after a long while)\n",
    "Once I was past it, it inserted the summarizer code from newpaper api with a loop across all links - however, NCBI and goodrx blocked me.\n",
    "Quite conservatively, I tried other links one-by-one (being very wary of the Google Gods aka blocking algorithms)\n",
    "As next measure, I gave some cushion as exception handling to the newspaper download code. However, I had to further improvise the code to detect 'Access Denied' and not summarize those results since it was still blowing past the exceptions.\n",
    "The ideal way would however, been to fork out a version of newpaper and play around with the exception handling there. \n",
    "Anyway, the code did work and I do have a large para with summary from multiple places. Code and output follow."
   ]
  },
  {
   "cell_type": "code",
   "execution_count": 91,
   "metadata": {},
   "outputs": [
    {
     "name": "stdout",
     "output_type": "stream",
     "text": [
      "Updated April 25, 2020There are no drugs or other therapeutics presently approved by the U.S. Food and Drug Administration (FDA) to prevent or treat COVID-19.\n",
      "Current clinical management includes infection prevention and control measures and supportive care, including supplemental oxygen and mechanical ventilatory support when indicated.\n",
      "The National Institutes of Health have published interim guidelines for the medical management of COVID-19external icon prepared by the COVID-19 Treatment Guidelines Panel.\n",
      "These guidelines contain information about investigational therapeutics and will be updated as new information emerges and drugs and other therapeutic interventions are approved for use by FDA.\n",
      "Persons seeking information about registered clinical trials for COVID-19 in the United States can search for such information here: ClinicalTrials.govexternal icon.\n",
      "Studies are underway to examine if hydroxychloroquine (and a related drug chloroquine) are effective against the coronavirus.\n",
      "President Trump has previously referred to the potential of hydroxychloroquine in White House briefings.\n",
      "In the US, various trials are under way for a combination of drugs including chloroquine, hydroxychloroquine and an antibiotic called azithromycin, for treating Covid-19 patients.\n",
      "But it does mean that in specific circumstances, hospitals can request and use the medicines from government stockpiles for use in Covid-19 treatment.\n",
      "But it lifted the ban after President Trump made a personal plea to India's Prime Minister, Narendra Modi.\n",
      "1 Our World in DataTotal and daily confirmed COVID-19 cases, India.\n",
      "More than a billion Indians currently stand at the precipice of a massive increase in cases of coronavirus disease 2019 (COVID-19).\n",
      "2 National Taskforce for COVID-19Advisory on the use of hydroxy-chloroquine as prophylaxis for SARS-CoV-2 infection.\n",
      "Hydroxychloroquine and azithromycin as a treatment of COVID-19: results of an open-label non-randomized clinical trial.\n",
      "Although some in-vitro evidence supports the antiviral activity of hydroxychloroquine and its precursor chloroquine, there is no peer-reviewed publication that evaluates either drug for exposure prophylaxis of SARS-CoV-2 infection.\n",
      "The ongoing uncertainty over whether hydroxychloroquine can successfully treat Covid-19 appears to have eroded demand considerably among hospitals, according to new data.\n",
      "From the week ending April 17 to the week ending April 24, demand plunged 62% among hospitals placing orders for the decades-old malaria drug.\n",
      "The shift comes amid controversy over the extent to which hydroxychloroquine can help Covid-19 patients.\n",
      "Over the past several days, however, he indicated that the shortage has abated most everywhere and lupus patients say they are finding it easier to obtain hydroxychloroquine.\n",
      "Lupus patients were the victims of the ridiculous controversy.”\n",
      "As a result, ICMR released an advisory Friday to expand the usage of HCQ — an anti-malarial drug — as a preventive treatment against the novel coronavirus.\n",
      "ICMR had issued an advisory to begin using HCQ in March, but it had drawn criticism for lacking scientific evidence that the drug works against the novel coronavirus.\n",
      "It further said “the benefit was less pronounced in healthcare workers caring for a general patient population”.\n",
      "Another observational study was conducted among 334 healthcare workers at the country’s largest public hospital, New Delhi’s All India Institute of Medical Sciences (AIIMS).\n",
      "While the dosage will remain the same as before, eight weeks, the ICMR advisory suggests that it can be used beyond that period as well, but with close monitoring.\n",
      "President Donald Trump’s announcement that he is taking the drug hydroxychloroquine as a precaution against the coronavirus has once again thrown a decades-old antimalarial drug into the headlines.\n",
      "But isn’t taking hydroxychloroquine or chloroquine dangerous?\n",
      "The largest study to date, published May 22 in the Lancet, found that the drugs raised the risk of death for hospitalized COVID-19 patients.\n",
      "She is leading a clinical trial testing hydroxychloroquine as a prophylactic to protect healthcare workers exposed to COVID-19 patients.\n",
      "So what’s the big deal about the president saying he’s taking hydroxychloroquine?\n",
      "The second group will receive hydroxychloroquine in combination with azithromycin, which is an antibiotic therapy.\n",
      "Other clinical trials of hydroxychloroquine for COVID-19 are underway in China vs. placebo (NCT04261517) and vs. AbbVie’s Kaletra (NCT04307693).\n",
      "Radiological progression showed on 5 hydroxychloroquine patients (33.3) vs. 7 placebo patients (46.7%).\n",
      "Five drugs eyed in COVID-19Hydroxychloroquine is one generic drug that Novartis said it will assess in clinical trials.\n",
      "Novartis also plans to sponsor or co-sponsor clinical trials to study ruxolitinib and canakinumab for hospitalized patients with COVID-19 infections.\n",
      "New Delhi: Some experts have criticised the endorsement by India’s top health research body for use of hydroxychloroquine (HCQ) on Covid-19 patients and healthcare workers without proper evidence that proves the drug’s ability to reduce the viral load.In the absence of credible evidence, a blanket recommendation for chemoprophylaxis might be contentious, the experts said in an article published online by the Lancet on April 17.\n",
      "Besides, the health ministry recommended the use of HCQ in combination with azithromycin for severe cases of Covid-19 requiring ICU management.Raman R Gangakhedkar, head of epidemiology and communicable diseases at ICMR, said it has already launched a study on the side-effects of HCQ using data of some healthcare workers who self-medicated themselves with the drug.\n",
      "According to him, the healthcare workers reported side-effects such as abdominal pain, nausea and hypoglycaemia.“The average age of such health workers is 35 years.\n",
      "The most visible side-effect was that of abdominal pain, which was reported in 10% of all those who consumed the medication, while nausea-like symptoms were reported in 6%.\n",
      "About 1.3% had hypoglycaemia,” Gangakhedkar said.\n"
     ]
    }
   ],
   "source": [
    "import requests\n",
    "from bs4 import BeautifulSoup\n",
    "import re\n",
    "import urllib.parse\n",
    "from urllib.parse import urlparse\n",
    "g_clean = [ ] \n",
    "url ='https://www.google.com/search?source=hp&ei=WijKXvTlCJHf9QPXm6D4DQ&q=is+hydroxychloroquine+working+for+covid+19&oq=is+hydroxychloroquine+working+for+&gs_lcp=CgZwc3ktYWIQAxgAMgIIADoFCAAQgwE6BwgAEEYQ_wE6DggAEOoCELQCEJoBEOUCUOYJWPQ2YIJAaAVwAHgAgAGOAYgBwxCSAQQwLjE4mAEAoAEBqgEHZ3dzLXdperABBg&sclient=psy-ab'\n",
    "    \n",
    "html = requests.get(url)\n",
    "if html.status_code==200:\n",
    "    soup = BeautifulSoup(html.text, 'lxml')\n",
    "    a = soup.find_all('a') \n",
    "    for i in a:\n",
    "        k = i.get('href')\n",
    "        try:\n",
    "            m = re.search(\"(?P<url>https?://[^\\s]+)\", k)\n",
    "            n = m.group(0)\n",
    "            rul = n.split('&')[0]\n",
    "            domain = urlparse(rul)\n",
    "            if(re.search('google.com', domain.netloc)):\n",
    "                continue\n",
    "            else:\n",
    "                g_clean.append(rul)\n",
    "        except:\n",
    "            continue\n",
    "            \n",
    "dedup_linkset = list(dict.fromkeys(g_clean))\n",
    "\n",
    "#print(dedup_linkset)\n",
    "summary = [ ]            \n",
    "for x in range(len(dedup_linkset)):\n",
    "  #print(dedup_linkset[x])\n",
    "  try:\n",
    "    article = Article(dedup_linkset[x])\n",
    "    article.download()\n",
    "    article.parse()\n",
    "    article.nlp()\n",
    "    #print(article.authors)\n",
    "    #print(article.publish_date)\n",
    "    article.keywords\n",
    "    #print(article.summary)\n",
    "    #splitted = article.summary.split()\n",
    "    #first = splitted[0]\n",
    "    #second = splitted[1]\n",
    "    article_summary = str(article.summary)\n",
    "    #print(article_summary)\n",
    "    if (article_summary.find('Access Denied') < 0):\n",
    "        print(article_summary)\n",
    "    #if 'Access Denied' in article_summary\n",
    "        #continue\n",
    "    #else     \n",
    "        #summary[x]= article_summary\n",
    "        #print(article_summary)\n",
    "  except:\n",
    "    continue\n",
    "    \n",
    "\n"
   ]
  },
  {
   "cell_type": "markdown",
   "metadata": {},
   "source": [
    "With this done, what I want to do next is to figure out what is the dominant sentiment across this para for which I need to further research."
   ]
  },
  {
   "cell_type": "markdown",
   "metadata": {},
   "source": [
    "Other hat tips:\n",
    "    https://simpleanalytical.com/sharing-jupyter-notebook-github\n",
    "    https://towardsdatascience.com/scrape-and-summarize-news-articles-in-5-lines-of-python-code-175f0e5c7dfc\n",
    "    https://newspaper.readthedocs.io/en/latest/\n",
    "    https://www.w3schools.com/python/python_howto_remove_duplicates.asp\n",
    "        "
   ]
  }
 ],
 "metadata": {
  "kernelspec": {
   "display_name": "Python 3",
   "language": "python",
   "name": "python3"
  },
  "language_info": {
   "codemirror_mode": {
    "name": "ipython",
    "version": 3
   },
   "file_extension": ".py",
   "mimetype": "text/x-python",
   "name": "python",
   "nbconvert_exporter": "python",
   "pygments_lexer": "ipython3",
   "version": "3.7.6"
  }
 },
 "nbformat": 4,
 "nbformat_minor": 4
}
