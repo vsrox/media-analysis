{
 "cells": [
  {
   "cell_type": "code",
   "execution_count": null,
   "metadata": {},
   "outputs": [],
   "source": [
    "Okay, so here it is - the first Jupyter notebook. \n",
    "As a programmer in my past life and a strategy consultant for a while now, I feel strongly that is the future of consulting and most of knowledge economy. \n",
    "More on that later!\n",
    "For now, what we have at hand is a hobby project.\n",
    "Along with my friend, Arpan, I am trying to explore an institutional way to understand leanings of media on crucial matters.\n",
    "We start with a topical one - is hydroxychloraquin (ain't that a mouthful) effective for Covid19? "
   ]
  },
  {
   "cell_type": "code",
   "execution_count": null,
   "metadata": {},
   "outputs": [],
   "source": [
    "So, starting off, I want to test out how I can observe media quickly. \n",
    "As someone has said, good programmers develop algorithms, great programmers search github.\n",
    "Shamelessly borrowing from the good folks at newpaper library, here is a quick render of summarizing a web article using this beautiful library. \n",
    "Hat tip folks!"
   ]
  },
  {
   "cell_type": "code",
   "execution_count": 13,
   "metadata": {},
   "outputs": [
    {
     "name": "stdout",
     "output_type": "stream",
     "text": [
      "['As Many As Districts Have At Least One Case']\n",
      "None\n",
      "Hydroxychloroquine, the antimalarial drug which the U.S. President Donald Trump called a “game changer” against coronavirus (COVID-19), is not effective against the disease, according to a study.\n",
      "The yet to be peer-reviewed study, published in the preprint server medRxiv, made a retrospective analysis of patients hospitalised with COVID-19 in all the Veterans Health Administration medical centers across the U.S.\n",
      "According to the researchers, hydroxychloroquine, alone or in combination with azithromycin, is being widely used in COVID-19 therapy based on anecdotal evidence.\n",
      "Also Read Coronavirus | Pharma units in limbo amid confusion over hydroxychloroquine exportsBased on the findings, the scientists said there is no evidence that use of hydroxychloroquine reduced the risk of mechanical ventilation in patients hospitalised with COVID-19.\n",
      "“The findings from this retrospective study suggest caution in using hydroxychloroquine in hospitalised COVID-19 patients, particularly when not combined with azithromycin,” the researchers concluded.\n"
     ]
    }
   ],
   "source": [
    "import nltk\n",
    "from newspaper import Article\n",
    "article = Article('https://www.thehindu.com/sci-tech/health/coronavirus-hydroxychloroquine-not-effective-against-covid-19-says-study/article31406034.ece')\n",
    "article.download()\n",
    "article.parse()\n",
    "article.nlp()\n",
    "print(article.authors)\n",
    "print(article.publish_date)\n",
    "article.keywords\n",
    "print(article.summary)\n"
   ]
  },
  {
   "cell_type": "code",
   "execution_count": null,
   "metadata": {},
   "outputs": [],
   "source": [
    "That worked well! \n",
    "I looked at the summary code under the hood and it basically scores the sentences with the highest appreance of keywords (words appearing the most and not the usual stopwords) as high and then builds a summary taking the highest ranked sentences. Quite elegant but something to be played around with the NLP inclined."
   ]
  },
  {
   "cell_type": "code",
   "execution_count": 45,
   "metadata": {},
   "outputs": [
    {
     "name": "stdout",
     "output_type": "stream",
     "text": [
      "/?sa=X&ved=0ahUKEwi0zJ78gszpAhVMwzgGHYGZCC0QOwgC\n",
      "/?output=search&ie=UTF-8&sa=X&ved=0ahUKEwi0zJ78gszpAhVMwzgGHYGZCC0QPAgE\n",
      "/search?q=is+hydroxychloroquine+working+for+covid+19&ie=UTF-8&gbv=1&sei=cCjKXrTUAsyG4-EPgbOi6AI\n",
      "/search?q=is+hydroxychloroquine+working+for+covid+19&ie=UTF-8&source=lnms&tbm=nws&sa=X&ved=0ahUKEwi0zJ78gszpAhVMwzgGHYGZCC0Q_AUICCgB\n",
      "/search?q=is+hydroxychloroquine+working+for+covid+19&ie=UTF-8&source=lnms&tbm=shop&sa=X&ved=0ahUKEwi0zJ78gszpAhVMwzgGHYGZCC0Q_AUICSgC\n",
      "/search?q=is+hydroxychloroquine+working+for+covid+19&ie=UTF-8&source=lnms&tbm=isch&sa=X&ved=0ahUKEwi0zJ78gszpAhVMwzgGHYGZCC0Q_AUICigD\n",
      "https://maps.google.com/maps?q=is+hydroxychloroquine+working+for+covid+19&gs_lcp=CgZwc3ktYWIQAxgAMgIIADoFCAAQgwE6BwgAEEYQ_wE6DggAEOoCELQCEJoBEOUCUOYJWPQ2YIJAaAVwAHgAgAGOAYgBwxCSAQQwLjE4mAEAoAEBqgEHZ3dzLXdperABBg&um=1&ie=UTF-8&sa=X&ved=0ahUKEwi0zJ78gszpAhVMwzgGHYGZCC0Q_AUICygE\n",
      "/search?q=is+hydroxychloroquine+working+for+covid+19&ie=UTF-8&source=lnms&tbm=vid&sa=X&ved=0ahUKEwi0zJ78gszpAhVMwzgGHYGZCC0Q_AUIDCgF\n",
      "/search?q=is+hydroxychloroquine+working+for+covid+19&ie=UTF-8&source=lnms&tbm=bks&sa=X&ved=0ahUKEwi0zJ78gszpAhVMwzgGHYGZCC0Q_AUIDSgG\n",
      "/advanced_search\n",
      "/search?q=is+hydroxychloroquine+working+for+covid+19&ie=UTF-8&source=lnt&tbs=qdr:h&sa=X&ved=0ahUKEwi0zJ78gszpAhVMwzgGHYGZCC0QpwUIDw\n",
      "/search?q=is+hydroxychloroquine+working+for+covid+19&ie=UTF-8&source=lnt&tbs=qdr:d&sa=X&ved=0ahUKEwi0zJ78gszpAhVMwzgGHYGZCC0QpwUIEA\n",
      "/search?q=is+hydroxychloroquine+working+for+covid+19&ie=UTF-8&source=lnt&tbs=qdr:w&sa=X&ved=0ahUKEwi0zJ78gszpAhVMwzgGHYGZCC0QpwUIEQ\n",
      "/search?q=is+hydroxychloroquine+working+for+covid+19&ie=UTF-8&source=lnt&tbs=qdr:m&sa=X&ved=0ahUKEwi0zJ78gszpAhVMwzgGHYGZCC0QpwUIEg\n",
      "/search?q=is+hydroxychloroquine+working+for+covid+19&ie=UTF-8&source=lnt&tbs=qdr:y&sa=X&ved=0ahUKEwi0zJ78gszpAhVMwzgGHYGZCC0QpwUIEw\n",
      "/search?q=is+hydroxychloroquine+working+for+&ie=UTF-8&source=lnt&tbs=li:1&sa=X&ved=0ahUKEwi0zJ78gszpAhVMwzgGHYGZCC0QpwUIFQ\n",
      "/url?q=https://www.cdc.gov/coronavirus/2019-ncov/hcp/therapeutic-options.html&sa=U&ved=2ahUKEwi0zJ78gszpAhVMwzgGHYGZCC0QFjAAegQIABAB&usg=AOvVaw0gnXOScM3-0CwBX0AifZH0\n",
      "/url?q=https://www.goodrx.com/blog/coronavirus-medicine-chloroquine-hydroxychloroquine-as-covid19-treatment/&sa=U&ved=2ahUKEwi0zJ78gszpAhVMwzgGHYGZCC0QFjABegQICRAB&usg=AOvVaw1J-Q7Y1DWoIxbJyEhIKPXE\n",
      "/url?q=https://www.ncbi.nlm.nih.gov/pmc/articles/PMC7102549/&sa=U&ved=2ahUKEwi0zJ78gszpAhVMwzgGHYGZCC0QFjACegQICBAB&usg=AOvVaw1L9Ne7Mq8bMhHC2F8jEi20\n",
      "/url?q=https://www.ncbi.nlm.nih.gov/pmc/articles/PMC7102549/%23sec0001title&sa=U&ved=2ahUKEwi0zJ78gszpAhVMwzgGHYGZCC0Q0gIwAnoECAgQAg&usg=AOvVaw2pvicinIgkmAHqJ_DPw9yp\n",
      "/url?q=https://www.ncbi.nlm.nih.gov/pmc/articles/PMC7102549/%23sec0002title&sa=U&ved=2ahUKEwi0zJ78gszpAhVMwzgGHYGZCC0Q0gIwAnoECAgQAw&usg=AOvVaw0amgdO6MB7qjpnUcx3zYHZ\n",
      "/url?q=https://www.ncbi.nlm.nih.gov/pmc/articles/PMC7102549/%23sec0018title&sa=U&ved=2ahUKEwi0zJ78gszpAhVMwzgGHYGZCC0Q0gIwAnoECAgQBA&usg=AOvVaw3lHOl3wDyTsvDgng2dmfyB\n",
      "/url?q=https://www.ncbi.nlm.nih.gov/pmc/articles/PMC7102549/%23sec0013title&sa=U&ved=2ahUKEwi0zJ78gszpAhVMwzgGHYGZCC0Q0gIwAnoECAgQBQ&usg=AOvVaw02sRZaOgoQ1Nfv7kMDBOhJ\n",
      "/url?q=https://www.thelancet.com/journals/laninf/article/PIIS1473-3099(20)30313-3/fulltext&sa=U&ved=2ahUKEwi0zJ78gszpAhVMwzgGHYGZCC0QFjADegQIBxAB&usg=AOvVaw2GudS2zTRdHY-XRxwbPIUM\n",
      "/url?q=https://www.statnews.com/pharmalot/2020/04/28/covid19-coronavirus-hydroxycholoroquine-lupus-trump/&sa=U&ved=2ahUKEwi0zJ78gszpAhVMwzgGHYGZCC0QFjAEegQIBhAB&usg=AOvVaw0EWA59V0rpB1ALtyY6Sjjj\n",
      "/url?q=https://www.bbc.com/news/51980731&sa=U&ved=2ahUKEwi0zJ78gszpAhVMwzgGHYGZCC0QFjAFegQIBRAB&usg=AOvVaw1bxrGoBo5hBCrmInt4SHDo\n",
      "/url?q=https://theprint.in/health/hcq-breakthrough-icmr-finds-its-effective-in-preventing-coronavirus-expands-its-use/427583/&sa=U&ved=2ahUKEwi0zJ78gszpAhVMwzgGHYGZCC0QFjAGegQIAhAB&usg=AOvVaw339Md2OjWmFjXTzPGdEnnY\n",
      "/url?q=https://www.genengnews.com/news/novartis-plans-phase-iii-trial-of-hydroxychloroquine-for-covid-19/&sa=U&ved=2ahUKEwi0zJ78gszpAhVMwzgGHYGZCC0QFjAHegQIAxAB&usg=AOvVaw1dCy6mMhEvkT63b0UKmIPc\n",
      "/url?q=https://www.sciencenews.org/article/coronavirus-covid-19-politics-hydroxychloroquine-treatment-research&sa=U&ved=2ahUKEwi0zJ78gszpAhVMwzgGHYGZCC0QFjAIegQIARAB&usg=AOvVaw3uHlAwgsPU8QBfMilTYZli\n",
      "/url?q=https://m.economictimes.com/industry/healthcare/biotech/pharmaceuticals/experts-criticise-indias-endorsement-for-use-of-hydroxychloroquine-on-covid-19-patients/articleshow/75243316.cms&sa=U&ved=2ahUKEwi0zJ78gszpAhVMwzgGHYGZCC0QFjAJegQIBBAB&usg=AOvVaw1zl6FblVZSbHaka2alAWBb\n",
      "/search?q=is+hydroxychloroquine+working+for+covid+19&ie=UTF-8&ei=cCjKXrTUAsyG4-EPgbOi6AI&start=10&sa=N\n",
      "/url?q=https://accounts.google.com/ServiceLogin%3Fcontinue%3Dhttps://www.google.com/search%253Fsource%253Dhp%2526ei%253DWijKXvTlCJHf9QPXm6D4DQ%2526q%253Dis%252Bhydroxychloroquine%252Bworking%252Bfor%252Bcovid%252B19%2526oq%253Dis%252Bhydroxychloroquine%252Bworking%252Bfor%252B%2526gs_lcp%253DCgZwc3ktYWIQAxgAMgIIADoFCAAQgwE6BwgAEEYQ_wE6DggAEOoCELQCEJoBEOUCUOYJWPQ2YIJAaAVwAHgAgAGOAYgBwxCSAQQwLjE4mAEAoAEBqgEHZ3dzLXdperABBg%2526sclient%253Dpsy-ab%26hl%3Den&sa=U&ved=0ahUKEwi0zJ78gszpAhVMwzgGHYGZCC0Qxs8CCDg&usg=AOvVaw1d6AI1utLrBbWGNTqMrTIA\n",
      "https://www.google.com/preferences?hl=en-IN&fg=1&sa=X&ved=0ahUKEwi0zJ78gszpAhVMwzgGHYGZCC0Q5fUCCDk\n",
      "//policies.google.com/privacy?fg=1\n",
      "//policies.google.com/terms?fg=1\n"
     ]
    }
   ],
   "source": [
    "import requests\n",
    "from bs4 import BeautifulSoup\n",
    "import re\n",
    "import urllib.parse\n",
    "from urllib.parse import urlparse\n",
    "g_clean = [ ] \n",
    "url ='https://www.google.com/search?source=hp&ei=WijKXvTlCJHf9QPXm6D4DQ&q=is+hydroxychloroquine+working+for+covid+19&oq=is+hydroxychloroquine+working+for+&gs_lcp=CgZwc3ktYWIQAxgAMgIIADoFCAAQgwE6BwgAEEYQ_wE6DggAEOoCELQCEJoBEOUCUOYJWPQ2YIJAaAVwAHgAgAGOAYgBwxCSAQQwLjE4mAEAoAEBqgEHZ3dzLXdperABBg&sclient=psy-ab'\n",
    "    \n",
    "html = requests.get(url)\n",
    "if html.status_code==200:\n",
    "    soup = BeautifulSoup(html.text, 'lxml')\n",
    "    a = soup.find_all('a') \n",
    "    for i in a:\n",
    "        k = i.get('href')\n",
    "        print(k)            \n",
    "            "
   ]
  },
  {
   "cell_type": "code",
   "execution_count": null,
   "metadata": {},
   "outputs": [],
   "source": [
    "Phew, that seemed to work but the render is not pretty at all. So, onwards to trying to get this code correct"
   ]
  },
  {
   "cell_type": "code",
   "execution_count": 49,
   "metadata": {},
   "outputs": [
    {
     "name": "stdout",
     "output_type": "stream",
     "text": [
      "https://www.cdc.gov/coronavirus/2019-ncov/hcp/therapeutic-options.html\n",
      "https://www.goodrx.com/blog/coronavirus-medicine-chloroquine-hydroxychloroquine-as-covid19-treatment/\n",
      "https://www.ncbi.nlm.nih.gov/pmc/articles/PMC7102549/\n",
      "https://www.ncbi.nlm.nih.gov/pmc/articles/PMC7102549/%23sec0001title\n",
      "https://www.ncbi.nlm.nih.gov/pmc/articles/PMC7102549/%23sec0002title\n",
      "https://www.ncbi.nlm.nih.gov/pmc/articles/PMC7102549/%23sec0018title\n",
      "https://www.ncbi.nlm.nih.gov/pmc/articles/PMC7102549/%23sec0013title\n",
      "https://www.thelancet.com/journals/laninf/article/PIIS1473-3099(20)30313-3/fulltext\n",
      "https://www.statnews.com/pharmalot/2020/04/28/covid19-coronavirus-hydroxycholoroquine-lupus-trump/\n",
      "https://www.bbc.com/news/51980731\n",
      "https://theprint.in/health/hcq-breakthrough-icmr-finds-its-effective-in-preventing-coronavirus-expands-its-use/427583/\n",
      "https://www.genengnews.com/news/novartis-plans-phase-iii-trial-of-hydroxychloroquine-for-covid-19/\n",
      "https://www.sciencenews.org/article/coronavirus-covid-19-politics-hydroxychloroquine-treatment-research\n",
      "https://m.economictimes.com/industry/healthcare/biotech/pharmaceuticals/experts-criticise-indias-endorsement-for-use-of-hydroxychloroquine-on-covid-19-patients/articleshow/75243316.cms\n"
     ]
    }
   ],
   "source": [
    "import requests\n",
    "from bs4 import BeautifulSoup\n",
    "import re\n",
    "import urllib.parse\n",
    "from urllib.parse import urlparse\n",
    "g_clean = [ ] \n",
    "url ='https://www.google.com/search?source=hp&ei=WijKXvTlCJHf9QPXm6D4DQ&q=is+hydroxychloroquine+working+for+covid+19&oq=is+hydroxychloroquine+working+for+&gs_lcp=CgZwc3ktYWIQAxgAMgIIADoFCAAQgwE6BwgAEEYQ_wE6DggAEOoCELQCEJoBEOUCUOYJWPQ2YIJAaAVwAHgAgAGOAYgBwxCSAQQwLjE4mAEAoAEBqgEHZ3dzLXdperABBg&sclient=psy-ab'\n",
    "    \n",
    "html = requests.get(url)\n",
    "if html.status_code==200:\n",
    "    soup = BeautifulSoup(html.text, 'lxml')\n",
    "    a = soup.find_all('a') \n",
    "    for i in a:\n",
    "        k = i.get('href')\n",
    "        try:\n",
    "            m = re.search(\"(?P<url>https?://[^\\s]+)\", k)\n",
    "            n = m.group(0)\n",
    "            rul = n.split('&')[0]\n",
    "            domain = urlparse(rul)\n",
    "            if(re.search('google.com', domain.netloc)):\n",
    "                continue\n",
    "            else:\n",
    "                g_clean.append(rul)\n",
    "        except:\n",
    "            continue\n",
    "            \n",
    "            \n",
    "for x in range(len(g_clean)):\n",
    "    print(g_clean[x])\n"
   ]
  },
  {
   "cell_type": "code",
   "execution_count": null,
   "metadata": {},
   "outputs": [],
   "source": [
    "That is good progress - makes you wonder how it has become to code! \n",
    "Although also makes you wonder how people can easily copy paste code, and pass off as the developers of that. \n",
    "Phew, and I had tried to laboriously read Knuth in 2008/09"
   ]
  }
 ],
 "metadata": {
  "kernelspec": {
   "display_name": "Python 3",
   "language": "python",
   "name": "python3"
  },
  "language_info": {
   "codemirror_mode": {
    "name": "ipython",
    "version": 3
   },
   "file_extension": ".py",
   "mimetype": "text/x-python",
   "name": "python",
   "nbconvert_exporter": "python",
   "pygments_lexer": "ipython3",
   "version": "3.7.6"
  }
 },
 "nbformat": 4,
 "nbformat_minor": 4
}
